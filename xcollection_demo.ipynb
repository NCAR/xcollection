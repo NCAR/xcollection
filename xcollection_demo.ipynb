{
 "cells": [
  {
   "cell_type": "code",
   "execution_count": 1,
   "metadata": {},
   "outputs": [],
   "source": [
    "import os\n",
    "import yaml\n",
    "import importlib\n",
    "\n",
    "import numpy as np\n",
    "import xarray as xr\n",
    "\n",
    "import xcollection as xc\n",
    "import data_catalog"
   ]
  },
  {
   "cell_type": "markdown",
   "metadata": {},
   "source": [
    "### recipes"
   ]
  },
  {
   "cell_type": "code",
   "execution_count": 2,
   "metadata": {},
   "outputs": [
    {
     "data": {
      "text/plain": [
       "{'monclim': {'description': 'compute monthly climatology',\n",
       "  'file_format': 'nc',\n",
       "  'operators': [<function compute_mon_climatology at 0x2aab66035158>]}}"
      ]
     },
     "execution_count": 2,
     "metadata": {},
     "output_type": "execute_result"
    }
   ],
   "source": [
    "with open('definitions.yml', 'r') as f:\n",
    "    defs = yaml.load(f)\n",
    "recipes = defs['analysis_recipes']\n",
    "recipes"
   ]
  },
  {
   "cell_type": "markdown",
   "metadata": {},
   "source": [
    "### sample data"
   ]
  },
  {
   "cell_type": "code",
   "execution_count": 3,
   "metadata": {},
   "outputs": [],
   "source": [
    "if not os.path.exists('junk.nc'):\n",
    "    start_date = np.array([0, 31, 59, 90, 120, 151, 181, 212, 243, 273, 304, 334])\n",
    "    start_date = np.append(start_date, start_date + 365)\n",
    "    end_date = np.array([31, 59, 90, 120, 151, 181, 212, 243, 273, 304, 334, 365])\n",
    "    end_date = np.append(end_date, end_date + 365)\n",
    "    ds = xr.Dataset(coords={\"time\": 24, \"lat\": 1, \"lon\": 1, \"d2\": 2})\n",
    "    ds[\"time\"] = xr.DataArray(end_date, dims=\"time\")\n",
    "    ds[\"lat\"] = xr.DataArray([0], dims=\"lat\")\n",
    "    ds[\"lon\"] = xr.DataArray([0], dims=\"lon\")\n",
    "    ds[\"d2\"] = xr.DataArray([0, 1], dims=\"d2\")\n",
    "    ds[\"time_bound\"] = xr.DataArray(\n",
    "        np.array([start_date, end_date]).transpose(), dims=[\"time\", \"d2\"]\n",
    "    )\n",
    "    ds[\"var_to_average\"] = xr.DataArray(\n",
    "        np.append(np.zeros([12, 1, 1]), np.ones([12, 1, 1]), axis=0),\n",
    "        dims=[\"time\", \"lat\", \"lon\"],\n",
    "    )\n",
    "    ds.time.attrs[\"units\"] = \"days since 0001-01-01 00:00:00\"\n",
    "    ds.time.attrs[\"calendar\"] = \"noleap\"\n",
    "    ds.time.attrs[\"bounds\"] = \"time_bound\"\n",
    "\n",
    "    ds.to_netcdf('junk.nc')\n"
   ]
  },
  {
   "cell_type": "markdown",
   "metadata": {},
   "source": [
    "### define `datasource`"
   ]
  },
  {
   "cell_type": "code",
   "execution_count": 4,
   "metadata": {},
   "outputs": [
    {
     "data": {
      "text/plain": [
       "{'name': 'junk', 'variables': array(['var_to_average'], dtype=object), 'ensembles': [0], 'applied_methods': [], 'year_offset': nan, 'files': {0: {'var_to_average': ['junk.nc']}}, 'attrs': {0: {'var_to_average': {}}}}"
      ]
     },
     "execution_count": 4,
     "metadata": {},
     "output_type": "execute_result"
    }
   ],
   "source": [
    "importlib.reload(xc)\n",
    "\n",
    "entry = {'variable': ['var_to_average'], \n",
    "         'files': ['junk.nc']}\n",
    "\n",
    "dsrc = xc.datasource('junk', entry)\n",
    "dsrc"
   ]
  },
  {
   "cell_type": "markdown",
   "metadata": {},
   "source": [
    "### analyze datasource"
   ]
  },
  {
   "cell_type": "code",
   "execution_count": 5,
   "metadata": {},
   "outputs": [
    {
     "name": "stderr",
     "output_type": "stream",
     "text": [
      "INFO:root:removing old /glade/scratch/mclong/calcs/processed_collections/junk.000.monclim.nc\n",
      "INFO:root:applying operator: <function compute_mon_climatology at 0x2aab66035158>\n",
      "INFO:root:writing /glade/scratch/mclong/calcs/processed_collections/junk.000.monclim.nc\n"
     ]
    },
    {
     "data": {
      "text/plain": [
       "<xcollection.core.analyzed_datasource at 0x2aab66061da0>"
      ]
     },
     "execution_count": 5,
     "metadata": {},
     "output_type": "execute_result"
    }
   ],
   "source": [
    "importlib.reload(xc)\n",
    "dsrc = xc.datasource('junk', entry)\n",
    "dc = xc.analyzed_datasource('monclim', recipes['monclim'], dsrc, clobber_cache=True)\n",
    "dc"
   ]
  },
  {
   "cell_type": "code",
   "execution_count": 6,
   "metadata": {},
   "outputs": [
    {
     "name": "stdout",
     "output_type": "stream",
     "text": [
      "xarray.Dataset {\n",
      "dimensions:\n",
      "\td2 = 2 ;\n",
      "\tens = 1 ;\n",
      "\tlat = 1 ;\n",
      "\tlon = 1 ;\n",
      "\ttime = 12 ;\n",
      "\n",
      "variables:\n",
      "\tint32 d2(d2) ;\n",
      "\tint32 lat(lat) ;\n",
      "\tint32 lon(lon) ;\n",
      "\tobject time(time) ;\n",
      "\t\ttime:long_name = time ;\n",
      "\t\ttime:bounds = month_bounds ;\n",
      "\tfloat64 var_to_average(ens, time, lat, lon) ;\n",
      "\tint32 month(ens, time) ;\n",
      "\t\tmonth:long_name = Month ;\n",
      "\t\tmonth:units = month ;\n",
      "\tobject month_bounds(ens, time, d2) ;\n",
      "\t\tmonth_bounds:long_name = month_bounds ;\n",
      "\n",
      "// global attributes:\n",
      "\t:history = created by mclong on 2019-01-30 05:09:07 ;\n",
      "\t:analysis_name = monclim ;\n",
      "\t:analysis = {'description': 'compute monthly climatology', 'operators': [<function compute_mon_climatology at 0x2aab66035158>], 'sel_kwargs': None, 'isel_kwargs': None} ;\n",
      "\t:applied_methods = [['time:clim_mon']] ;\n",
      "\t:datasource = {'name': 'junk', 'variables': array(['var_to_average'], dtype=object), 'ensembles': [0], 'applied_methods': [], 'year_offset': nan, 'files': {0: {'var_to_average': ['junk.nc']}}, 'attrs': {0: {'var_to_average': {}}}} ;\n",
      "}"
     ]
    }
   ],
   "source": [
    "ds = dc.to_xarray()\n",
    "ds.info()"
   ]
  },
  {
   "cell_type": "code",
   "execution_count": 7,
   "metadata": {},
   "outputs": [
    {
     "name": "stdout",
     "output_type": "stream",
     "text": [
      "active catalog: cesm2_runs\n"
     ]
    }
   ],
   "source": [
    "data_catalog.set_catalog('cesm2_runs')"
   ]
  },
  {
   "cell_type": "code",
   "execution_count": 9,
   "metadata": {},
   "outputs": [
    {
     "data": {
      "text/plain": [
       "{'case': ['g.e21a01d.G1850ECOIAF.T62_g17.extraterr-fe.001',\n",
       "  'g.e21a01d.G1850ECOIAF.T62_g17.extraterr-fe.001'],\n",
       " 'component': ['ocn', 'ocn'],\n",
       " 'date_range': [\"['000101', '024012']\", \"['024101', '031012']\"],\n",
       " 'ensemble': [0, 0],\n",
       " 'experiment': ['g.e21a01d.G1850ECOIAF.T62_g17.extraterr-fe.001',\n",
       "  'g.e21a01d.G1850ECOIAF.T62_g17.extraterr-fe.001'],\n",
       " 'file_basename': ['g.e21a01d.G1850ECOIAF.T62_g17.extraterr-fe.001.pop.h.FG_CO2.000101-024012.nc',\n",
       "  'g.e21a01d.G1850ECOIAF.T62_g17.extraterr-fe.001.pop.h.FG_CO2.024101-031012.nc'],\n",
       " 'files': ['/glade/scratch/mclong/archive/g.e21a01d.G1850ECOIAF.T62_g17.extraterr-fe.001/ocn/proc/tseries/month_1/g.e21a01d.G1850ECOIAF.T62_g17.extraterr-fe.001.pop.h.FG_CO2.000101-024012.nc',\n",
       "  '/glade/scratch/mclong/archive/g.e21a01d.G1850ECOIAF.T62_g17.extraterr-fe.001/ocn/proc/tseries/month_1/g.e21a01d.G1850ECOIAF.T62_g17.extraterr-fe.001.pop.h.FG_CO2.024101-031012.nc'],\n",
       " 'grid': ['POP_gx1v7', 'POP_gx1v7'],\n",
       " 'sequence_order': [0, 0],\n",
       " 'stream': ['pop.h', 'pop.h'],\n",
       " 'variable': ['FG_CO2', 'FG_CO2'],\n",
       " 'year_offset': [1699.0, 1699.0],\n",
       " 'ctrl_branch_year': [nan, nan],\n",
       " 'has_ocean_bgc': [nan, nan]}"
      ]
     },
     "execution_count": 9,
     "metadata": {},
     "output_type": "execute_result"
    }
   ],
   "source": [
    "entry = data_catalog.get_entries(experiment='g.e21a01d.G1850ECOIAF.T62_g17.extraterr-fe.001', \n",
    "                                 variable='FG_CO2')\n",
    "entry"
   ]
  },
  {
   "cell_type": "code",
   "execution_count": 10,
   "metadata": {},
   "outputs": [
    {
     "data": {
      "text/plain": [
       "{'name': 'g.e21a01d.G1850ECOIAF.T62_g17.extraterr-fe.001.FG_CO2', 'variables': array(['FG_CO2'], dtype=object), 'ensembles': array([0]), 'applied_methods': [], 'year_offset': 1699.0, 'files': {0: {'FG_CO2': ['/glade/scratch/mclong/archive/g.e21a01d.G1850ECOIAF.T62_g17.extraterr-fe.001/ocn/proc/tseries/month_1/g.e21a01d.G1850ECOIAF.T62_g17.extraterr-fe.001.pop.h.FG_CO2.000101-024012.nc', '/glade/scratch/mclong/archive/g.e21a01d.G1850ECOIAF.T62_g17.extraterr-fe.001/ocn/proc/tseries/month_1/g.e21a01d.G1850ECOIAF.T62_g17.extraterr-fe.001.pop.h.FG_CO2.024101-031012.nc']}}, 'attrs': {0: {'FG_CO2': {'case': ['g.e21a01d.G1850ECOIAF.T62_g17.extraterr-fe.001', 'g.e21a01d.G1850ECOIAF.T62_g17.extraterr-fe.001'], 'component': ['ocn', 'ocn'], 'date_range': [\"['000101', '024012']\", \"['024101', '031012']\"], 'experiment': ['g.e21a01d.G1850ECOIAF.T62_g17.extraterr-fe.001', 'g.e21a01d.G1850ECOIAF.T62_g17.extraterr-fe.001'], 'file_basename': ['g.e21a01d.G1850ECOIAF.T62_g17.extraterr-fe.001.pop.h.FG_CO2.000101-024012.nc', 'g.e21a01d.G1850ECOIAF.T62_g17.extraterr-fe.001.pop.h.FG_CO2.024101-031012.nc'], 'grid': ['POP_gx1v7', 'POP_gx1v7'], 'sequence_order': [0, 0], 'stream': ['pop.h', 'pop.h'], 'year_offset': [1699.0, 1699.0], 'ctrl_branch_year': [nan, nan], 'has_ocean_bgc': [nan, nan]}}}}"
      ]
     },
     "execution_count": 10,
     "metadata": {},
     "output_type": "execute_result"
    }
   ],
   "source": [
    "dsrc = xc.datasource('g.e21a01d.G1850ECOIAF.T62_g17.extraterr-fe.001.FG_CO2', entry)\n",
    "dsrc"
   ]
  },
  {
   "cell_type": "code",
   "execution_count": 11,
   "metadata": {},
   "outputs": [
    {
     "name": "stderr",
     "output_type": "stream",
     "text": [
      "INFO:root:applying operator: <function compute_mon_climatology at 0x2aab66035158>\n",
      "INFO:root:writing /glade/scratch/mclong/calcs/processed_collections/g.e21a01d.G1850ECOIAF.T62_g17.extraterr-fe.001.FG_CO2.000.monclim.nc\n",
      "/glade/work/mclong/miniconda3/envs/py3/lib/python3.6/site-packages/dask/array/numpy_compat.py:28: RuntimeWarning: invalid value encountered in true_divide\n",
      "  x = np.divide(x1, x2, out)\n"
     ]
    },
    {
     "data": {
      "text/plain": [
       "<xcollection.core.analyzed_datasource at 0x2aac75d2b080>"
      ]
     },
     "execution_count": 11,
     "metadata": {},
     "output_type": "execute_result"
    }
   ],
   "source": [
    "dc = xc.analyzed_datasource('monclim', recipes['monclim'], dsrc, clobber_cache=True)\n",
    "dc"
   ]
  },
  {
   "cell_type": "code",
   "execution_count": 12,
   "metadata": {},
   "outputs": [
    {
     "name": "stdout",
     "output_type": "stream",
     "text": [
      "xarray.Dataset {\n",
      "dimensions:\n",
      "\td2 = 2 ;\n",
      "\tens = 1 ;\n",
      "\tlat_aux_grid = 395 ;\n",
      "\tmoc_comp = 3 ;\n",
      "\tmoc_z = 61 ;\n",
      "\tnlat = 384 ;\n",
      "\tnlon = 320 ;\n",
      "\ttime = 12 ;\n",
      "\ttransport_comp = 5 ;\n",
      "\ttransport_reg = 2 ;\n",
      "\tz_t = 60 ;\n",
      "\tz_t_150m = 15 ;\n",
      "\tz_w = 60 ;\n",
      "\tz_w_bot = 60 ;\n",
      "\tz_w_top = 60 ;\n",
      "\n",
      "variables:\n",
      "\tobject time(time) ;\n",
      "\t\ttime:long_name = time ;\n",
      "\t\ttime:bounds = month_bounds ;\n",
      "\tfloat32 lat_aux_grid(lat_aux_grid) ;\n",
      "\t\tlat_aux_grid:long_name = latitude grid for transport diagnostics ;\n",
      "\t\tlat_aux_grid:units = degrees_north ;\n",
      "\t\tlat_aux_grid:valid_min = -79.48815155029297 ;\n",
      "\t\tlat_aux_grid:valid_max = 90.0 ;\n",
      "\tfloat32 moc_z(moc_z) ;\n",
      "\t\tmoc_z:long_name = depth from surface to top of layer ;\n",
      "\t\tmoc_z:units = centimeters ;\n",
      "\t\tmoc_z:positive = down ;\n",
      "\t\tmoc_z:valid_min = 0.0 ;\n",
      "\t\tmoc_z:valid_max = 549999.0625 ;\n",
      "\tfloat32 z_t(z_t) ;\n",
      "\t\tz_t:long_name = depth from surface to midpoint of layer ;\n",
      "\t\tz_t:units = centimeters ;\n",
      "\t\tz_t:positive = down ;\n",
      "\t\tz_t:valid_min = 500.0 ;\n",
      "\t\tz_t:valid_max = 537500.0 ;\n",
      "\tfloat32 z_t_150m(z_t_150m) ;\n",
      "\t\tz_t_150m:long_name = depth from surface to midpoint of layer ;\n",
      "\t\tz_t_150m:units = centimeters ;\n",
      "\t\tz_t_150m:positive = down ;\n",
      "\t\tz_t_150m:valid_min = 500.0 ;\n",
      "\t\tz_t_150m:valid_max = 14500.0 ;\n",
      "\tfloat32 z_w(z_w) ;\n",
      "\t\tz_w:long_name = depth from surface to top of layer ;\n",
      "\t\tz_w:units = centimeters ;\n",
      "\t\tz_w:positive = down ;\n",
      "\t\tz_w:valid_min = 0.0 ;\n",
      "\t\tz_w:valid_max = 525000.9375 ;\n",
      "\tfloat32 z_w_bot(z_w_bot) ;\n",
      "\t\tz_w_bot:long_name = depth from surface to bottom of layer ;\n",
      "\t\tz_w_bot:units = centimeters ;\n",
      "\t\tz_w_bot:positive = down ;\n",
      "\t\tz_w_bot:valid_min = 1000.0 ;\n",
      "\t\tz_w_bot:valid_max = 549999.0625 ;\n",
      "\tfloat32 z_w_top(z_w_top) ;\n",
      "\t\tz_w_top:long_name = depth from surface to top of layer ;\n",
      "\t\tz_w_top:units = centimeters ;\n",
      "\t\tz_w_top:positive = down ;\n",
      "\t\tz_w_top:valid_min = 0.0 ;\n",
      "\t\tz_w_top:valid_max = 525000.9375 ;\n",
      "\tfloat32 FG_CO2(ens, time, nlat, nlon) ;\n",
      "\t\tFG_CO2:long_name = DIC Surface Gas Flux ;\n",
      "\t\tFG_CO2:units = mmol/m^3 cm/s ;\n",
      "\t\tFG_CO2:coordinates = TLONG TLAT time ;\n",
      "\t\tFG_CO2:grid_loc = 2110 ;\n",
      "\t\tFG_CO2:cell_methods = time: mean ;\n",
      "\tfloat64 ANGLE(ens, nlat, nlon) ;\n",
      "\t\tANGLE:long_name = angle grid makes with latitude line ;\n",
      "\t\tANGLE:units = radians ;\n",
      "\t\tANGLE:coordinates = ULONG ULAT ;\n",
      "\tfloat64 ANGLET(ens, nlat, nlon) ;\n",
      "\t\tANGLET:long_name = angle grid makes with latitude line on T grid ;\n",
      "\t\tANGLET:units = radians ;\n",
      "\t\tANGLET:coordinates = TLONG TLAT ;\n",
      "\tfloat64 DXT(ens, nlat, nlon) ;\n",
      "\t\tDXT:long_name = x-spacing centered at T points ;\n",
      "\t\tDXT:units = centimeters ;\n",
      "\t\tDXT:coordinates = TLONG TLAT ;\n",
      "\tfloat64 DXU(ens, nlat, nlon) ;\n",
      "\t\tDXU:long_name = x-spacing centered at U points ;\n",
      "\t\tDXU:units = centimeters ;\n",
      "\t\tDXU:coordinates = ULONG ULAT ;\n",
      "\tfloat64 DYT(ens, nlat, nlon) ;\n",
      "\t\tDYT:long_name = y-spacing centered at T points ;\n",
      "\t\tDYT:units = centimeters ;\n",
      "\t\tDYT:coordinates = TLONG TLAT ;\n",
      "\tfloat64 DYU(ens, nlat, nlon) ;\n",
      "\t\tDYU:long_name = y-spacing centered at U points ;\n",
      "\t\tDYU:units = centimeters ;\n",
      "\t\tDYU:coordinates = ULONG ULAT ;\n",
      "\tfloat64 HT(ens, nlat, nlon) ;\n",
      "\t\tHT:long_name = ocean depth at T points ;\n",
      "\t\tHT:units = centimeter ;\n",
      "\t\tHT:coordinates = TLONG TLAT ;\n",
      "\tfloat64 HTE(ens, nlat, nlon) ;\n",
      "\t\tHTE:long_name = cell widths on East sides of T cell ;\n",
      "\t\tHTE:units = centimeters ;\n",
      "\t\tHTE:coordinates = TLONG TLAT ;\n",
      "\tfloat64 HTN(ens, nlat, nlon) ;\n",
      "\t\tHTN:long_name = cell widths on North sides of T cell ;\n",
      "\t\tHTN:units = centimeters ;\n",
      "\t\tHTN:coordinates = TLONG TLAT ;\n",
      "\tfloat64 HU(ens, nlat, nlon) ;\n",
      "\t\tHU:long_name = ocean depth at U points ;\n",
      "\t\tHU:units = centimeter ;\n",
      "\t\tHU:coordinates = ULONG ULAT ;\n",
      "\tfloat64 HUS(ens, nlat, nlon) ;\n",
      "\t\tHUS:long_name = cell widths on South sides of U cell ;\n",
      "\t\tHUS:units = centimeters ;\n",
      "\t\tHUS:coordinates = ULONG ULAT ;\n",
      "\tfloat64 HUW(ens, nlat, nlon) ;\n",
      "\t\tHUW:long_name = cell widths on West sides of U cell ;\n",
      "\t\tHUW:units = centimeters ;\n",
      "\t\tHUW:coordinates = ULONG ULAT ;\n",
      "\tfloat64 KMT(ens, nlat, nlon) ;\n",
      "\t\tKMT:long_name = k Index of Deepest Grid Cell on T Grid ;\n",
      "\t\tKMT:coordinates = TLONG TLAT ;\n",
      "\tfloat64 KMU(ens, nlat, nlon) ;\n",
      "\t\tKMU:long_name = k Index of Deepest Grid Cell on U Grid ;\n",
      "\t\tKMU:coordinates = ULONG ULAT ;\n",
      "\tfloat64 REGION_MASK(ens, nlat, nlon) ;\n",
      "\t\tREGION_MASK:long_name = basin index number (signed integers) ;\n",
      "\t\tREGION_MASK:coordinates = TLONG TLAT ;\n",
      "\tfloat64 T0_Kelvin(ens) ;\n",
      "\t\tT0_Kelvin:long_name = Zero Point for Celsius ;\n",
      "\t\tT0_Kelvin:units = degK ;\n",
      "\tfloat64 TAREA(ens, nlat, nlon) ;\n",
      "\t\tTAREA:long_name = area of T cells ;\n",
      "\t\tTAREA:units = centimeter^2 ;\n",
      "\t\tTAREA:coordinates = TLONG TLAT ;\n",
      "\tfloat64 TLAT(ens, nlat, nlon) ;\n",
      "\t\tTLAT:long_name = array of t-grid latitudes ;\n",
      "\t\tTLAT:units = degrees_north ;\n",
      "\tfloat64 TLONG(ens, nlat, nlon) ;\n",
      "\t\tTLONG:long_name = array of t-grid longitudes ;\n",
      "\t\tTLONG:units = degrees_east ;\n",
      "\tfloat64 UAREA(ens, nlat, nlon) ;\n",
      "\t\tUAREA:long_name = area of U cells ;\n",
      "\t\tUAREA:units = centimeter^2 ;\n",
      "\t\tUAREA:coordinates = ULONG ULAT ;\n",
      "\tfloat64 ULAT(ens, nlat, nlon) ;\n",
      "\t\tULAT:long_name = array of u-grid latitudes ;\n",
      "\t\tULAT:units = degrees_north ;\n",
      "\tfloat64 ULONG(ens, nlat, nlon) ;\n",
      "\t\tULONG:long_name = array of u-grid longitudes ;\n",
      "\t\tULONG:units = degrees_east ;\n",
      "\tfloat64 cp_air(ens) ;\n",
      "\t\tcp_air:long_name = Heat Capacity of Air ;\n",
      "\t\tcp_air:units = joule/kg/degK ;\n",
      "\tfloat64 cp_sw(ens) ;\n",
      "\t\tcp_sw:long_name = Specific Heat of Sea Water ;\n",
      "\t\tcp_sw:units = erg/g/K ;\n",
      "\ttimedelta64[ns] days_in_norm_year(ens) ;\n",
      "\t\tdays_in_norm_year:long_name = Calendar Length ;\n",
      "\tfloat32 dz(ens, z_t) ;\n",
      "\t\tdz:long_name = thickness of layer k ;\n",
      "\t\tdz:units = centimeters ;\n",
      "\tfloat32 dzw(ens, z_w) ;\n",
      "\t\tdzw:long_name = midpoint of k to midpoint of k+1 ;\n",
      "\t\tdzw:units = centimeters ;\n",
      "\tfloat64 fwflux_factor(ens) ;\n",
      "\t\tfwflux_factor:long_name = Convert Net Fresh Water Flux to Salt Flux (in model units) ;\n",
      "\tfloat64 grav(ens) ;\n",
      "\t\tgrav:long_name = Acceleration Due to Gravity ;\n",
      "\t\tgrav:units = centimeter/s^2 ;\n",
      "\tfloat64 heat_to_PW(ens) ;\n",
      "\t\theat_to_PW:long_name = Convert Heat Flux to Petawatts ;\n",
      "\tfloat64 hflux_factor(ens) ;\n",
      "\t\thflux_factor:long_name = Convert Heat and Solar Flux to Temperature Flux ;\n",
      "\tfloat64 latent_heat_fusion(ens) ;\n",
      "\t\tlatent_heat_fusion:long_name = Latent Heat of Fusion ;\n",
      "\t\tlatent_heat_fusion:units = erg/g ;\n",
      "\tfloat64 latent_heat_fusion_mks(ens) ;\n",
      "\t\tlatent_heat_fusion_mks:long_name = Latent Heat of Fusion ;\n",
      "\t\tlatent_heat_fusion_mks:units = J/kg ;\n",
      "\tfloat64 latent_heat_vapor(ens) ;\n",
      "\t\tlatent_heat_vapor:long_name = Latent Heat of Vaporization ;\n",
      "\t\tlatent_heat_vapor:units = J/kg ;\n",
      "\tfloat64 mass_to_Sv(ens) ;\n",
      "\t\tmass_to_Sv:long_name = Convert Mass Flux to Sverdrups ;\n",
      "\t|S384 moc_components(ens, moc_comp) ;\n",
      "\t\tmoc_components:long_name = MOC component names ;\n",
      "\t\tmoc_components:units =  ;\n",
      "\tfloat64 momentum_factor(ens) ;\n",
      "\t\tmomentum_factor:long_name = Convert Windstress to Velocity Flux ;\n",
      "\tfloat64 nsurface_t(ens) ;\n",
      "\t\tnsurface_t:long_name = Number of Ocean T Points at Surface ;\n",
      "\tfloat64 nsurface_u(ens) ;\n",
      "\t\tnsurface_u:long_name = Number of Ocean U Points at Surface ;\n",
      "\tfloat64 ocn_ref_salinity(ens) ;\n",
      "\t\tocn_ref_salinity:long_name = Ocean Reference Salinity ;\n",
      "\t\tocn_ref_salinity:units = g/kg ;\n",
      "\tfloat64 omega(ens) ;\n",
      "\t\tomega:long_name = Earths Angular Velocity ;\n",
      "\t\tomega:units = 1/second ;\n",
      "\tfloat64 ppt_to_salt(ens) ;\n",
      "\t\tppt_to_salt:long_name = Convert Salt in g/kg to gram/gram ;\n",
      "\tfloat64 radius(ens) ;\n",
      "\t\tradius:long_name = Earths Radius ;\n",
      "\t\tradius:units = centimeters ;\n",
      "\tfloat64 rho_air(ens) ;\n",
      "\t\trho_air:long_name = Ambient Air Density ;\n",
      "\t\trho_air:units = kg/m^3 ;\n",
      "\tfloat64 rho_fw(ens) ;\n",
      "\t\trho_fw:long_name = Density of Fresh Water ;\n",
      "\t\trho_fw:units = gram/centimeter^3 ;\n",
      "\tfloat64 rho_sw(ens) ;\n",
      "\t\trho_sw:long_name = Density of Sea Water ;\n",
      "\t\trho_sw:units = gram/centimeter^3 ;\n",
      "\tfloat64 salinity_factor(ens) ;\n",
      "\tfloat64 salt_to_Svppt(ens) ;\n",
      "\t\tsalt_to_Svppt:long_name = Convert Salt Flux to Sverdrups*g/kg ;\n",
      "\tfloat64 salt_to_mmday(ens) ;\n",
      "\t\tsalt_to_mmday:long_name = Convert Salt to Water (millimeters/day) ;\n",
      "\tfloat64 salt_to_ppt(ens) ;\n",
      "\t\tsalt_to_ppt:long_name = Convert Salt in gram/gram to g/kg ;\n",
      "\tfloat64 sea_ice_salinity(ens) ;\n",
      "\t\tsea_ice_salinity:long_name = Salinity of Sea Ice ;\n",
      "\t\tsea_ice_salinity:units = g/kg ;\n",
      "\tfloat64 sflux_factor(ens) ;\n",
      "\t\tsflux_factor:long_name = Convert Salt Flux to Salt Flux (in model units) ;\n",
      "\tfloat64 sound(ens) ;\n",
      "\t\tsound:long_name = Speed of Sound ;\n",
      "\t\tsound:units = centimeter/s ;\n",
      "\tfloat64 stefan_boltzmann(ens) ;\n",
      "\t\tstefan_boltzmann:long_name = Stefan-Boltzmann Constant ;\n",
      "\t\tstefan_boltzmann:units = watt/m^2/degK^4 ;\n",
      "\t|S384 transport_components(ens, transport_comp) ;\n",
      "\t\ttransport_components:long_name = T,S transport components ;\n",
      "\t\ttransport_components:units =  ;\n",
      "\t|S384 transport_regions(ens, transport_reg) ;\n",
      "\t\ttransport_regions:long_name = regions for all transport diagnostics ;\n",
      "\t\ttransport_regions:units =  ;\n",
      "\tfloat64 vonkar(ens) ;\n",
      "\t\tvonkar:long_name = von Karman Constant ;\n",
      "\tint32 month(ens, time) ;\n",
      "\t\tmonth:long_name = Month ;\n",
      "\t\tmonth:units = month ;\n",
      "\tobject month_bounds(ens, time, d2) ;\n",
      "\t\tmonth_bounds:long_name = month_bounds ;\n",
      "\n",
      "// global attributes:\n",
      "\t:history = created by mclong on 2019-01-30 05:13:39 ;\n",
      "\t:analysis_name = monclim ;\n",
      "\t:analysis = {'description': 'compute monthly climatology', 'operators': [<function compute_mon_climatology at 0x2aab66035158>], 'sel_kwargs': None, 'isel_kwargs': None} ;\n",
      "\t:applied_methods = [['time:clim_mon']] ;\n",
      "\t:datasource = {'name': 'g.e21a01d.G1850ECOIAF.T62_g17.extraterr-fe.001.FG_CO2', 'variables': array(['FG_CO2'], dtype=object), 'ensembles': array([0]), 'applied_methods': [], 'year_offset': 1699.0, 'files': {0: {'FG_CO2': ['/glade/scratch/mclong/archive/g.e21a01d.G1850ECOIAF.T62_g17.extraterr-fe.001/ocn/proc/tseries/month_1/g.e21a01d.G1850ECOIAF.T62_g17.extraterr-fe.001.pop.h.FG_CO2.000101-024012.nc', '/glade/scratch/mclong/archive/g.e21a01d.G1850ECOIAF.T62_g17.extraterr-fe.001/ocn/proc/tseries/month_1/g.e21a01d.G1850ECOIAF.T62_g17.extraterr-fe.001.pop.h.FG_CO2.024101-031012.nc']}}, 'attrs': {0: {'FG_CO2': {'case': ['g.e21a01d.G1850ECOIAF.T62_g17.extraterr-fe.001', 'g.e21a01d.G1850ECOIAF.T62_g17.extraterr-fe.001'], 'component': ['ocn', 'ocn'], 'date_range': [\"['000101', '024012']\", \"['024101', '031012']\"], 'experiment': ['g.e21a01d.G1850ECOIAF.T62_g17.extraterr-fe.001', 'g.e21a01d.G1850ECOIAF.T62_g17.extraterr-fe.001'], 'file_basename': ['g.e21a01d.G1850ECOIAF.T62_g17.extraterr-fe.001.pop.h.FG_CO2.000101-024012.nc', 'g.e21a01d.G1850ECOIAF.T62_g17.extraterr-fe.001.pop.h.FG_CO2.024101-031012.nc'], 'grid': ['POP_gx1v7', 'POP_gx1v7'], 'sequence_order': [0, 0], 'stream': ['pop.h', 'pop.h'], 'year_offset': [1699.0, 1699.0], 'ctrl_branch_year': [nan, nan], 'has_ocean_bgc': [nan, nan]}}}} ;\n",
      "}"
     ]
    }
   ],
   "source": [
    "ds = dc.to_xarray()\n",
    "ds.info()"
   ]
  },
  {
   "cell_type": "code",
   "execution_count": null,
   "metadata": {},
   "outputs": [],
   "source": []
  }
 ],
 "metadata": {
  "kernelspec": {
   "display_name": "Python 3",
   "language": "python",
   "name": "python3"
  },
  "language_info": {
   "codemirror_mode": {
    "name": "ipython",
    "version": 3
   },
   "file_extension": ".py",
   "mimetype": "text/x-python",
   "name": "python",
   "nbconvert_exporter": "python",
   "pygments_lexer": "ipython3",
   "version": "3.6.7"
  }
 },
 "nbformat": 4,
 "nbformat_minor": 2
}
